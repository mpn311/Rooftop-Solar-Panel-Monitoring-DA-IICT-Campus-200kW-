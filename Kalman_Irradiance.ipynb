# -------------------------------
# 📦 STEP 1: Import Libraries
# -------------------------------
import requests
import pandas as pd
import numpy as np
import matplotlib.pyplot as plt

# -------------------------------
# 🌍 STEP 2: Download Irradiance Data from NASA POWER (Daily)
# -------------------------------
latitude = 23.7
longitude = 87.1
start_date = "20250610"
end_date = "20250612"

url = (
    f"https://power.larc.nasa.gov/api/temporal/daily/point?"
    f"parameters=ALLSKY_SFC_SW_DWN,ALLSKY_NKT,T2M&"
    f"community=RE&longitude={longitude}&latitude={latitude}&"
    f"start={start_date}&end={end_date}&format=JSON"
)

response = requests.get(url)
data = response.json()

# Parse JSON
irradiance = data["properties"]["parameter"]["ALLSKY_SFC_SW_DWN"]
cloud_cover = data["properties"]["parameter"]["ALLSKY_NKT"]
temperature = data["properties"]["parameter"]["T2M"]

nasa_df = pd.DataFrame({
    "Date": list(irradiance.keys()),
    "GHI (W/m²)": list(irradiance.values()),
    "CloudCover (%)": list(cloud_cover.values()),
    "Temperature (°C)": list(temperature.values())
})
nasa_df["Date"] = pd.to_datetime(nasa_df["Date"], format="%Y%m%d")

# -------------------------------
# 🧮 STEP 3: Load PV Dataset and Aggregate to Daily
# -------------------------------
pv_df = pd.read_csv("Dataset.csv")  # 🔁 Replace with your file path
pv_df["Date"] = pd.to_datetime(pv_df["Time"]).dt.date
pv_df["Date"] = pd.to_datetime(pv_df["Date"])

daily_pv = pv_df.groupby("Date").agg({
    "Ppv(W)": "sum",
    "AMTemp1(℃)": "mean",
    "AMTemp2(℃)": "mean"
}).reset_index()

# Average ambient temperature
daily_pv["AmbientTemp (°C)"] = daily_pv[["AMTemp1(℃)", "AMTemp2(℃)"]].mean(axis=1)
daily_pv = daily_pv[["Date", "Ppv(W)", "AmbientTemp (°C)"]]

# -------------------------------
# 🔗 STEP 4: Merge NASA & PV Data
# -------------------------------
merged_df = pd.merge(daily_pv, nasa_df, on="Date", how="inner")

# -------------------------------
# 🤖 STEP 5: Apply Kalman Filter
# -------------------------------
observations = merged_df["Ppv(W)"].values
states = merged_df["GHI (W/m²)"].values

n = len(observations)
x_est = np.zeros(n)
P = np.zeros(n)
Q = np.var(states) * 0.01  # Process noise
R = np.var(observations) * 0.05  # Measurement noise
A = 1
H = 1

x_est[0] = states[0]
P[0] = 1.0

for t in range(1, n):
    x_pred = A * x_est[t - 1]
    P_pred = A * P[t - 1] * A + Q

    K = P_pred * H / (H * P_pred * H + R)
    x_est[t] = x_pred + K * (observations[t] - H * x_pred)
    P[t] = (1 - K * H) * P_pred

# -------------------------------
# 🧾 STEP 6: Predict Power from Estimated Irradiance
# -------------------------------
merged_df["Kalman_Irradiance"] = x_est
merged_df["Predicted_Power"] = x_est * (observations / states)

# -------------------------------
# 📊 STEP 7: Visualize Results
# -------------------------------
plt.figure(figsize=(10, 6))
plt.plot(merged_df["Date"], merged_df["Ppv(W)"], label="Actual Power", marker='o')
plt.plot(merged_df["Date"], merged_df["Predicted_Power"], label="Kalman Predicted Power", marker='x')
plt.xticks(rotation=45)
plt.xlabel("Date")
plt.ylabel("Power (W)")
plt.title("Actual vs Kalman Predicted PV Power")
plt.legend()
plt.grid(True)
plt.tight_layout()
plt.show()

# -------------------------------
# ✅ STEP 8: Print Final Table
# -------------------------------
print(merged_df[["Date", "GHI (W/m²)", "Kalman_Irradiance", "Ppv(W)", "Predicted_Power"]].round(2))
